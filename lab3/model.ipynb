{
 "nbformat": 4,
 "nbformat_minor": 0,
 "metadata": {
  "colab": {
   "name": "cv_lab3.ipynb",
   "provenance": []
  },
  "kernelspec": {
   "name": "python3",
   "display_name": "Python 3"
  },
  "language_info": {
   "name": "python"
  },
  "accelerator": "GPU"
 },
 "cells": [
  {
   "cell_type": "markdown",
   "source": [
    "## Load and preprocess data"
   ],
   "metadata": {
    "id": "cCvAzq7Qc9-t",
    "pycharm": {
     "name": "#%% md\n"
    }
   }
  },
  {
   "cell_type": "code",
   "source": [
    "import numpy as np\n",
    "import pandas as pd\n",
    "from sklearn.model_selection import train_test_split\n",
    "from keras.preprocessing.image import img_to_array, array_to_img\n",
    "from tensorflow.keras.utils import to_categorical"
   ],
   "metadata": {
    "id": "CEMJxhJZdCH_",
    "pycharm": {
     "name": "#%%\n"
    }
   },
   "execution_count": 1,
   "outputs": []
  },
  {
   "cell_type": "code",
   "source": [
    "train_data = pd.read_csv('/content/drive/MyDrive/cv_lab3_input/fashion-mnist_train.csv')\n",
    "test_data = pd.read_csv('/content/drive/MyDrive/cv_lab3_input/fashion-mnist_test.csv')"
   ],
   "metadata": {
    "id": "KnDDQMLdQUzo",
    "pycharm": {
     "name": "#%%\n"
    }
   },
   "execution_count": 2,
   "outputs": []
  },
  {
   "cell_type": "code",
   "source": [
    "train_X = np.array(train_data.iloc[:,1:])\n",
    "test_X = np.array(test_data.iloc[:,1:])\n",
    "train_Y = np.array (train_data.iloc[:,0])\n",
    "test_Y = np.array(test_data.iloc[:,0])"
   ],
   "metadata": {
    "id": "MoQD0Y4PQeAz",
    "pycharm": {
     "name": "#%%\n"
    }
   },
   "execution_count": 3,
   "outputs": []
  },
  {
   "cell_type": "code",
   "source": [
    "train_X=np.dstack([train_X] * 3)\n",
    "test_X=np.dstack([test_X] * 3)\n",
    "train_X.shape, test_X.shape"
   ],
   "metadata": {
    "colab": {
     "base_uri": "https://localhost:8080/"
    },
    "id": "WQHQxJObQtnK",
    "outputId": "60704e66-9407-4b7c-fee7-774365ef0127",
    "pycharm": {
     "name": "#%%\n"
    }
   },
   "execution_count": 4,
   "outputs": [
    {
     "output_type": "execute_result",
     "data": {
      "text/plain": [
       "((60000, 784, 3), (10000, 784, 3))"
      ]
     },
     "metadata": {},
     "execution_count": 4
    }
   ]
  },
  {
   "cell_type": "code",
   "source": [
    "train_X = train_X.reshape(-1, 28, 28, 3)\n",
    "test_X= test_X.reshape(-1, 28, 28, 3)\n",
    "train_X.shape, test_X.shape"
   ],
   "metadata": {
    "colab": {
     "base_uri": "https://localhost:8080/"
    },
    "id": "_Rswy39TQv6Q",
    "outputId": "583f2d22-28ab-42c3-9e76-8818bc413409",
    "pycharm": {
     "name": "#%%\n"
    }
   },
   "execution_count": 5,
   "outputs": [
    {
     "output_type": "execute_result",
     "data": {
      "text/plain": [
       "((60000, 28, 28, 3), (10000, 28, 28, 3))"
      ]
     },
     "metadata": {},
     "execution_count": 5
    }
   ]
  },
  {
   "cell_type": "code",
   "source": [
    "train_X = np.asarray([img_to_array(array_to_img(im, scale=False).resize((48, 48))) for im in train_X])\n",
    "test_X = np.asarray([img_to_array(array_to_img(im, scale=False).resize((48, 48))) for im in test_X])\n",
    "train_X.shape, test_X.shape"
   ],
   "metadata": {
    "colab": {
     "base_uri": "https://localhost:8080/"
    },
    "id": "CC2VfuNEQzlT",
    "outputId": "8d942775-b405-41d8-a8be-de8a45e259d2",
    "pycharm": {
     "name": "#%%\n"
    }
   },
   "execution_count": 6,
   "outputs": [
    {
     "output_type": "execute_result",
     "data": {
      "text/plain": [
       "((60000, 48, 48, 3), (10000, 48, 48, 3))"
      ]
     },
     "metadata": {},
     "execution_count": 6
    }
   ]
  },
  {
   "cell_type": "code",
   "source": [
    "train_X = train_X.astype('float32') / 255.\n",
    "test_X = test_X.astype('float32') / 255.\n",
    "train_Y_one_hot = to_categorical(train_Y)\n",
    "test_Y_one_hot = to_categorical(test_Y)"
   ],
   "metadata": {
    "id": "2TDPiWFmQ1J7",
    "pycharm": {
     "name": "#%%\n"
    }
   },
   "execution_count": 7,
   "outputs": []
  },
  {
   "cell_type": "code",
   "source": [
    "train_X, valid_X, train_label, valid_label = train_test_split(\n",
    "    train_X,\n",
    "    train_Y_one_hot,\n",
    "    test_size=0.2,\n",
    "    random_state=13\n",
    ")"
   ],
   "metadata": {
    "id": "_HtSShkrQ5Hl",
    "pycharm": {
     "name": "#%%\n"
    }
   },
   "execution_count": 8,
   "outputs": []
  },
  {
   "cell_type": "code",
   "source": [
    "train_X.shape, valid_X.shape, train_label.shape, valid_label.shape"
   ],
   "metadata": {
    "colab": {
     "base_uri": "https://localhost:8080/"
    },
    "id": "ix_IYPgDQ9yR",
    "outputId": "2860568c-8393-42f4-95bd-134b419101cc",
    "pycharm": {
     "name": "#%%\n"
    }
   },
   "execution_count": 9,
   "outputs": [
    {
     "output_type": "execute_result",
     "data": {
      "text/plain": [
       "((48000, 48, 48, 3), (12000, 48, 48, 3), (48000, 10), (12000, 10))"
      ]
     },
     "metadata": {},
     "execution_count": 9
    }
   ]
  },
  {
   "cell_type": "markdown",
   "source": [
    "## Create pretrained VGG16"
   ],
   "metadata": {
    "id": "7D3lcDPAcs2t",
    "pycharm": {
     "name": "#%% md\n"
    }
   }
  },
  {
   "cell_type": "code",
   "source": [
    "from tensorflow.keras.applications import VGG16\n",
    "from tensorflow.keras.applications.vgg16 import preprocess_input"
   ],
   "metadata": {
    "id": "CILIIU27Q-zK",
    "pycharm": {
     "name": "#%%\n"
    }
   },
   "execution_count": 10,
   "outputs": []
  },
  {
   "cell_type": "code",
   "source": [
    "IMG_WIDTH = 48\n",
    "IMG_HEIGHT = 48\n",
    "IMG_DEPTH = 3"
   ],
   "metadata": {
    "id": "GEY1KZ6Bc0mA",
    "pycharm": {
     "name": "#%%\n"
    }
   },
   "execution_count": 11,
   "outputs": []
  },
  {
   "cell_type": "code",
   "source": [
    "train_X = preprocess_input(train_X)\n",
    "valid_X = preprocess_input(valid_X)\n",
    "test_X  = preprocess_input(test_X)"
   ],
   "metadata": {
    "id": "fBpm8lgBRCcu",
    "pycharm": {
     "name": "#%%\n"
    }
   },
   "execution_count": 12,
   "outputs": []
  },
  {
   "cell_type": "code",
   "source": [
    "conv_base = VGG16(\n",
    "    weights='imagenet',\n",
    "    include_top=False,\n",
    "    input_shape=(IMG_HEIGHT, IMG_WIDTH, IMG_DEPTH)\n",
    ")\n",
    "conv_base.summary()"
   ],
   "metadata": {
    "colab": {
     "base_uri": "https://localhost:8080/"
    },
    "id": "jbNq0uzkRCml",
    "outputId": "37badbde-2d89-44fe-de59-8f30391a480a",
    "pycharm": {
     "name": "#%%\n"
    }
   },
   "execution_count": 13,
   "outputs": [
    {
     "output_type": "stream",
     "name": "stdout",
     "text": [
      "Model: \"vgg16\"\n",
      "_________________________________________________________________\n",
      " Layer (type)                Output Shape              Param #   \n",
      "=================================================================\n",
      " input_1 (InputLayer)        [(None, 48, 48, 3)]       0         \n",
      "                                                                 \n",
      " block1_conv1 (Conv2D)       (None, 48, 48, 64)        1792      \n",
      "                                                                 \n",
      " block1_conv2 (Conv2D)       (None, 48, 48, 64)        36928     \n",
      "                                                                 \n",
      " block1_pool (MaxPooling2D)  (None, 24, 24, 64)        0         \n",
      "                                                                 \n",
      " block2_conv1 (Conv2D)       (None, 24, 24, 128)       73856     \n",
      "                                                                 \n",
      " block2_conv2 (Conv2D)       (None, 24, 24, 128)       147584    \n",
      "                                                                 \n",
      " block2_pool (MaxPooling2D)  (None, 12, 12, 128)       0         \n",
      "                                                                 \n",
      " block3_conv1 (Conv2D)       (None, 12, 12, 256)       295168    \n",
      "                                                                 \n",
      " block3_conv2 (Conv2D)       (None, 12, 12, 256)       590080    \n",
      "                                                                 \n",
      " block3_conv3 (Conv2D)       (None, 12, 12, 256)       590080    \n",
      "                                                                 \n",
      " block3_pool (MaxPooling2D)  (None, 6, 6, 256)         0         \n",
      "                                                                 \n",
      " block4_conv1 (Conv2D)       (None, 6, 6, 512)         1180160   \n",
      "                                                                 \n",
      " block4_conv2 (Conv2D)       (None, 6, 6, 512)         2359808   \n",
      "                                                                 \n",
      " block4_conv3 (Conv2D)       (None, 6, 6, 512)         2359808   \n",
      "                                                                 \n",
      " block4_pool (MaxPooling2D)  (None, 3, 3, 512)         0         \n",
      "                                                                 \n",
      " block5_conv1 (Conv2D)       (None, 3, 3, 512)         2359808   \n",
      "                                                                 \n",
      " block5_conv2 (Conv2D)       (None, 3, 3, 512)         2359808   \n",
      "                                                                 \n",
      " block5_conv3 (Conv2D)       (None, 3, 3, 512)         2359808   \n",
      "                                                                 \n",
      " block5_pool (MaxPooling2D)  (None, 1, 1, 512)         0         \n",
      "                                                                 \n",
      "=================================================================\n",
      "Total params: 14,714,688\n",
      "Trainable params: 14,714,688\n",
      "Non-trainable params: 0\n",
      "_________________________________________________________________\n"
     ]
    }
   ]
  },
  {
   "cell_type": "code",
   "source": [
    "train_features = conv_base.predict(np.array(train_X), batch_size=64, verbose=1)\n",
    "test_features = conv_base.predict(np.array(test_X), batch_size=64, verbose=1)\n",
    "val_features = conv_base.predict(np.array(valid_X), batch_size=64, verbose=1)"
   ],
   "metadata": {
    "colab": {
     "base_uri": "https://localhost:8080/"
    },
    "id": "N-FF6--WUJiN",
    "outputId": "9f85aed6-249e-497a-e21d-6c21914f2ef6",
    "pycharm": {
     "name": "#%%\n"
    }
   },
   "execution_count": 14,
   "outputs": [
    {
     "output_type": "stream",
     "name": "stdout",
     "text": [
      "750/750 [==============================] - 35s 42ms/step\n",
      "157/157 [==============================] - 7s 44ms/step\n",
      "188/188 [==============================] - 8s 45ms/step\n"
     ]
    }
   ]
  },
  {
   "cell_type": "code",
   "source": [
    "train_features.shape, test_features.shape, val_features.shape"
   ],
   "metadata": {
    "colab": {
     "base_uri": "https://localhost:8080/"
    },
    "id": "7YaSfYr9UKZn",
    "outputId": "5c214a15-1bdb-46ac-c67a-3a5be02ff555",
    "pycharm": {
     "name": "#%%\n"
    }
   },
   "execution_count": 15,
   "outputs": [
    {
     "output_type": "execute_result",
     "data": {
      "text/plain": [
       "((48000, 1, 1, 512), (10000, 1, 1, 512), (12000, 1, 1, 512))"
      ]
     },
     "metadata": {},
     "execution_count": 15
    }
   ]
  },
  {
   "cell_type": "code",
   "source": [
    "train_features_flat = np.reshape(train_features, (48000, -1))\n",
    "test_features_flat = np.reshape(test_features, (10000, -1))\n",
    "val_features_flat = np.reshape(val_features, (12000, -1))"
   ],
   "metadata": {
    "id": "L1otyw_RUKcR",
    "pycharm": {
     "name": "#%%\n"
    }
   },
   "execution_count": 16,
   "outputs": []
  },
  {
   "cell_type": "markdown",
   "source": [
    "## Create classifier layers and train them"
   ],
   "metadata": {
    "id": "843L1nqpdsRX",
    "pycharm": {
     "name": "#%% md\n"
    }
   }
  },
  {
   "cell_type": "code",
   "source": [
    "from keras import models\n",
    "from keras import layers\n",
    "from tensorflow.keras import optimizers\n",
    "from keras import callbacks"
   ],
   "metadata": {
    "id": "zHmVo7AtUajq",
    "pycharm": {
     "name": "#%%\n"
    }
   },
   "execution_count": 17,
   "outputs": []
  },
  {
   "cell_type": "code",
   "source": [
    "model = models.Sequential()\n",
    "model.add(layers.Dense(512, activation='relu', input_dim=(512)))\n",
    "model.add(layers.Dense(256, activation='relu'))\n",
    "model.add(layers.Dense(10, activation='softmax'))"
   ],
   "metadata": {
    "id": "HJ_m6KQVUfQD",
    "pycharm": {
     "name": "#%%\n"
    }
   },
   "execution_count": 18,
   "outputs": []
  },
  {
   "cell_type": "code",
   "source": [
    "model.compile(\n",
    "    loss='categorical_crossentropy',\n",
    "    optimizer=optimizers.Adam(),\n",
    "    metrics=['accuracy']\n",
    ")"
   ],
   "metadata": {
    "id": "rlj786HYUh9b",
    "pycharm": {
     "name": "#%%\n"
    }
   },
   "execution_count": 19,
   "outputs": []
  },
  {
   "cell_type": "code",
   "source": [
    "reduce_lr = callbacks.ReduceLROnPlateau(\n",
    "    factor=0.2,\n",
    "    patience=2,\n",
    "    verbose=1,\n",
    "    cooldown=2\n",
    ")"
   ],
   "metadata": {
    "id": "Ms3kKAUvUtGy",
    "pycharm": {
     "name": "#%%\n"
    }
   },
   "execution_count": 20,
   "outputs": []
  },
  {
   "cell_type": "code",
   "source": [
    "history = model.fit(\n",
    "    train_features_flat,\n",
    "    train_label,\n",
    "    epochs=50,\n",
    "    validation_data=(val_features_flat, valid_label),\n",
    "    callbacks=[reduce_lr]\n",
    ")"
   ],
   "metadata": {
    "colab": {
     "base_uri": "https://localhost:8080/"
    },
    "id": "Yo_6J_enUwy2",
    "outputId": "31b33fd4-2071-4295-bac1-6aed386a7e2c",
    "pycharm": {
     "name": "#%%\n"
    }
   },
   "execution_count": 21,
   "outputs": [
    {
     "output_type": "stream",
     "name": "stdout",
     "text": [
      "Epoch 1/50\n",
      "1500/1500 [==============================] - 8s 5ms/step - loss: 1.3985 - accuracy: 0.4730 - val_loss: 1.0838 - val_accuracy: 0.5910 - lr: 0.0010\n",
      "Epoch 2/50\n",
      "1500/1500 [==============================] - 6s 4ms/step - loss: 1.0135 - accuracy: 0.6236 - val_loss: 0.9165 - val_accuracy: 0.6578 - lr: 0.0010\n",
      "Epoch 3/50\n",
      "1500/1500 [==============================] - 9s 6ms/step - loss: 0.9266 - accuracy: 0.6554 - val_loss: 0.9182 - val_accuracy: 0.6580 - lr: 0.0010\n",
      "Epoch 4/50\n",
      "1500/1500 [==============================] - 7s 5ms/step - loss: 0.8793 - accuracy: 0.6753 - val_loss: 0.8762 - val_accuracy: 0.6688 - lr: 0.0010\n",
      "Epoch 5/50\n",
      "1500/1500 [==============================] - 6s 4ms/step - loss: 0.8419 - accuracy: 0.6901 - val_loss: 0.8049 - val_accuracy: 0.7069 - lr: 0.0010\n",
      "Epoch 6/50\n",
      "1500/1500 [==============================] - 7s 5ms/step - loss: 0.8275 - accuracy: 0.6932 - val_loss: 0.7939 - val_accuracy: 0.7077 - lr: 0.0010\n",
      "Epoch 7/50\n",
      "1500/1500 [==============================] - 7s 5ms/step - loss: 0.8084 - accuracy: 0.7003 - val_loss: 0.8081 - val_accuracy: 0.7107 - lr: 0.0010\n",
      "Epoch 8/50\n",
      "1497/1500 [============================>.] - ETA: 0s - loss: 0.7940 - accuracy: 0.7049\n",
      "Epoch 8: ReduceLROnPlateau reducing learning rate to 0.00020000000949949026.\n",
      "1500/1500 [==============================] - 7s 5ms/step - loss: 0.7945 - accuracy: 0.7047 - val_loss: 0.8135 - val_accuracy: 0.6991 - lr: 0.0010\n",
      "Epoch 9/50\n",
      "1500/1500 [==============================] - 7s 5ms/step - loss: 0.7103 - accuracy: 0.7362 - val_loss: 0.7089 - val_accuracy: 0.7399 - lr: 2.0000e-04\n",
      "Epoch 10/50\n",
      "1500/1500 [==============================] - 6s 4ms/step - loss: 0.7015 - accuracy: 0.7393 - val_loss: 0.7167 - val_accuracy: 0.7331 - lr: 2.0000e-04\n",
      "Epoch 11/50\n",
      "1499/1500 [============================>.] - ETA: 0s - loss: 0.6971 - accuracy: 0.7430\n",
      "Epoch 11: ReduceLROnPlateau reducing learning rate to 4.0000001899898055e-05.\n",
      "1500/1500 [==============================] - 7s 5ms/step - loss: 0.6970 - accuracy: 0.7430 - val_loss: 0.7115 - val_accuracy: 0.7369 - lr: 2.0000e-04\n",
      "Epoch 12/50\n",
      "1500/1500 [==============================] - 7s 4ms/step - loss: 0.6757 - accuracy: 0.7496 - val_loss: 0.6905 - val_accuracy: 0.7469 - lr: 4.0000e-05\n",
      "Epoch 13/50\n",
      "1500/1500 [==============================] - 6s 4ms/step - loss: 0.6732 - accuracy: 0.7503 - val_loss: 0.6919 - val_accuracy: 0.7450 - lr: 4.0000e-05\n",
      "Epoch 14/50\n",
      "1495/1500 [============================>.] - ETA: 0s - loss: 0.6717 - accuracy: 0.7515\n",
      "Epoch 14: ReduceLROnPlateau reducing learning rate to 8.000000525498762e-06.\n",
      "1500/1500 [==============================] - 7s 5ms/step - loss: 0.6717 - accuracy: 0.7515 - val_loss: 0.6908 - val_accuracy: 0.7452 - lr: 4.0000e-05\n",
      "Epoch 15/50\n",
      "1500/1500 [==============================] - 7s 5ms/step - loss: 0.6671 - accuracy: 0.7525 - val_loss: 0.6871 - val_accuracy: 0.7464 - lr: 8.0000e-06\n",
      "Epoch 16/50\n",
      "1500/1500 [==============================] - 7s 5ms/step - loss: 0.6665 - accuracy: 0.7529 - val_loss: 0.6873 - val_accuracy: 0.7459 - lr: 8.0000e-06\n",
      "Epoch 17/50\n",
      "1500/1500 [==============================] - 7s 4ms/step - loss: 0.6662 - accuracy: 0.7534 - val_loss: 0.6863 - val_accuracy: 0.7484 - lr: 8.0000e-06\n",
      "Epoch 18/50\n",
      "1500/1500 [==============================] - 7s 5ms/step - loss: 0.6658 - accuracy: 0.7540 - val_loss: 0.6868 - val_accuracy: 0.7473 - lr: 8.0000e-06\n",
      "Epoch 19/50\n",
      "1500/1500 [==============================] - 7s 5ms/step - loss: 0.6655 - accuracy: 0.7536 - val_loss: 0.6859 - val_accuracy: 0.7475 - lr: 8.0000e-06\n",
      "Epoch 20/50\n",
      "1500/1500 [==============================] - 7s 5ms/step - loss: 0.6652 - accuracy: 0.7541 - val_loss: 0.6863 - val_accuracy: 0.7477 - lr: 8.0000e-06\n",
      "Epoch 21/50\n",
      "1500/1500 [==============================] - 7s 4ms/step - loss: 0.6650 - accuracy: 0.7533 - val_loss: 0.6849 - val_accuracy: 0.7479 - lr: 8.0000e-06\n",
      "Epoch 22/50\n",
      "1500/1500 [==============================] - 7s 5ms/step - loss: 0.6648 - accuracy: 0.7534 - val_loss: 0.6851 - val_accuracy: 0.7476 - lr: 8.0000e-06\n",
      "Epoch 23/50\n",
      "1495/1500 [============================>.] - ETA: 0s - loss: 0.6643 - accuracy: 0.7533\n",
      "Epoch 23: ReduceLROnPlateau reducing learning rate to 1.6000001778593287e-06.\n",
      "1500/1500 [==============================] - 7s 5ms/step - loss: 0.6645 - accuracy: 0.7533 - val_loss: 0.6849 - val_accuracy: 0.7477 - lr: 8.0000e-06\n",
      "Epoch 24/50\n",
      "1500/1500 [==============================] - 7s 5ms/step - loss: 0.6634 - accuracy: 0.7544 - val_loss: 0.6845 - val_accuracy: 0.7477 - lr: 1.6000e-06\n",
      "Epoch 25/50\n",
      "1500/1500 [==============================] - 6s 4ms/step - loss: 0.6634 - accuracy: 0.7541 - val_loss: 0.6847 - val_accuracy: 0.7483 - lr: 1.6000e-06\n",
      "Epoch 26/50\n",
      "1492/1500 [============================>.] - ETA: 0s - loss: 0.6629 - accuracy: 0.7544\n",
      "Epoch 26: ReduceLROnPlateau reducing learning rate to 3.200000264769187e-07.\n",
      "1500/1500 [==============================] - 7s 5ms/step - loss: 0.6633 - accuracy: 0.7544 - val_loss: 0.6845 - val_accuracy: 0.7485 - lr: 1.6000e-06\n",
      "Epoch 27/50\n",
      "1500/1500 [==============================] - 7s 5ms/step - loss: 0.6631 - accuracy: 0.7546 - val_loss: 0.6844 - val_accuracy: 0.7482 - lr: 3.2000e-07\n",
      "Epoch 28/50\n",
      "1500/1500 [==============================] - 7s 4ms/step - loss: 0.6631 - accuracy: 0.7544 - val_loss: 0.6844 - val_accuracy: 0.7480 - lr: 3.2000e-07\n",
      "Epoch 29/50\n",
      "1500/1500 [==============================] - 7s 5ms/step - loss: 0.6630 - accuracy: 0.7543 - val_loss: 0.6844 - val_accuracy: 0.7482 - lr: 3.2000e-07\n",
      "Epoch 30/50\n",
      "1500/1500 [==============================] - 6s 4ms/step - loss: 0.6630 - accuracy: 0.7543 - val_loss: 0.6844 - val_accuracy: 0.7478 - lr: 3.2000e-07\n",
      "Epoch 31/50\n",
      "1492/1500 [============================>.] - ETA: 0s - loss: 0.6633 - accuracy: 0.7542\n",
      "Epoch 31: ReduceLROnPlateau reducing learning rate to 6.400000529538374e-08.\n",
      "1500/1500 [==============================] - 7s 5ms/step - loss: 0.6630 - accuracy: 0.7542 - val_loss: 0.6844 - val_accuracy: 0.7483 - lr: 3.2000e-07\n",
      "Epoch 32/50\n",
      "1500/1500 [==============================] - 7s 5ms/step - loss: 0.6630 - accuracy: 0.7544 - val_loss: 0.6844 - val_accuracy: 0.7483 - lr: 6.4000e-08\n",
      "Epoch 33/50\n",
      "1500/1500 [==============================] - 7s 5ms/step - loss: 0.6630 - accuracy: 0.7543 - val_loss: 0.6844 - val_accuracy: 0.7480 - lr: 6.4000e-08\n",
      "Epoch 34/50\n",
      "1492/1500 [============================>.] - ETA: 0s - loss: 0.6635 - accuracy: 0.7541\n",
      "Epoch 34: ReduceLROnPlateau reducing learning rate to 1.2800001059076749e-08.\n",
      "1500/1500 [==============================] - 7s 5ms/step - loss: 0.6630 - accuracy: 0.7542 - val_loss: 0.6844 - val_accuracy: 0.7481 - lr: 6.4000e-08\n",
      "Epoch 35/50\n",
      "1500/1500 [==============================] - 7s 5ms/step - loss: 0.6629 - accuracy: 0.7542 - val_loss: 0.6844 - val_accuracy: 0.7480 - lr: 1.2800e-08\n",
      "Epoch 36/50\n",
      "1500/1500 [==============================] - 7s 4ms/step - loss: 0.6629 - accuracy: 0.7542 - val_loss: 0.6844 - val_accuracy: 0.7480 - lr: 1.2800e-08\n",
      "Epoch 37/50\n",
      "1497/1500 [============================>.] - ETA: 0s - loss: 0.6629 - accuracy: 0.7543\n",
      "Epoch 37: ReduceLROnPlateau reducing learning rate to 2.5600002118153498e-09.\n",
      "1500/1500 [==============================] - 7s 5ms/step - loss: 0.6629 - accuracy: 0.7542 - val_loss: 0.6844 - val_accuracy: 0.7480 - lr: 1.2800e-08\n",
      "Epoch 38/50\n",
      "1500/1500 [==============================] - 7s 4ms/step - loss: 0.6629 - accuracy: 0.7542 - val_loss: 0.6844 - val_accuracy: 0.7480 - lr: 2.5600e-09\n",
      "Epoch 39/50\n",
      "1500/1500 [==============================] - 7s 4ms/step - loss: 0.6629 - accuracy: 0.7542 - val_loss: 0.6844 - val_accuracy: 0.7480 - lr: 2.5600e-09\n",
      "Epoch 40/50\n",
      "1491/1500 [============================>.] - ETA: 0s - loss: 0.6629 - accuracy: 0.7542\n",
      "Epoch 40: ReduceLROnPlateau reducing learning rate to 5.1200004236307e-10.\n",
      "1500/1500 [==============================] - 7s 4ms/step - loss: 0.6629 - accuracy: 0.7542 - val_loss: 0.6844 - val_accuracy: 0.7480 - lr: 2.5600e-09\n",
      "Epoch 41/50\n",
      "1500/1500 [==============================] - 7s 5ms/step - loss: 0.6629 - accuracy: 0.7542 - val_loss: 0.6844 - val_accuracy: 0.7480 - lr: 5.1200e-10\n",
      "Epoch 42/50\n",
      "1500/1500 [==============================] - 6s 4ms/step - loss: 0.6629 - accuracy: 0.7542 - val_loss: 0.6844 - val_accuracy: 0.7480 - lr: 5.1200e-10\n",
      "Epoch 43/50\n",
      "1500/1500 [==============================] - ETA: 0s - loss: 0.6629 - accuracy: 0.7542\n",
      "Epoch 43: ReduceLROnPlateau reducing learning rate to 1.0240001069306004e-10.\n",
      "1500/1500 [==============================] - 7s 4ms/step - loss: 0.6629 - accuracy: 0.7542 - val_loss: 0.6844 - val_accuracy: 0.7480 - lr: 5.1200e-10\n",
      "Epoch 44/50\n",
      "1500/1500 [==============================] - 6s 4ms/step - loss: 0.6629 - accuracy: 0.7542 - val_loss: 0.6844 - val_accuracy: 0.7480 - lr: 1.0240e-10\n",
      "Epoch 45/50\n",
      "1500/1500 [==============================] - 7s 5ms/step - loss: 0.6629 - accuracy: 0.7542 - val_loss: 0.6844 - val_accuracy: 0.7480 - lr: 1.0240e-10\n",
      "Epoch 46/50\n",
      "1487/1500 [============================>.] - ETA: 0s - loss: 0.6633 - accuracy: 0.7541\n",
      "Epoch 46: ReduceLROnPlateau reducing learning rate to 2.0480002416167767e-11.\n",
      "1500/1500 [==============================] - 7s 4ms/step - loss: 0.6629 - accuracy: 0.7542 - val_loss: 0.6844 - val_accuracy: 0.7480 - lr: 1.0240e-10\n",
      "Epoch 47/50\n",
      "1500/1500 [==============================] - 7s 4ms/step - loss: 0.6629 - accuracy: 0.7542 - val_loss: 0.6844 - val_accuracy: 0.7480 - lr: 2.0480e-11\n",
      "Epoch 48/50\n",
      "1500/1500 [==============================] - 6s 4ms/step - loss: 0.6629 - accuracy: 0.7542 - val_loss: 0.6844 - val_accuracy: 0.7480 - lr: 2.0480e-11\n",
      "Epoch 49/50\n",
      "1490/1500 [============================>.] - ETA: 0s - loss: 0.6629 - accuracy: 0.7542\n",
      "Epoch 49: ReduceLROnPlateau reducing learning rate to 4.096000622011431e-12.\n",
      "1500/1500 [==============================] - 7s 5ms/step - loss: 0.6629 - accuracy: 0.7542 - val_loss: 0.6844 - val_accuracy: 0.7480 - lr: 2.0480e-11\n",
      "Epoch 50/50\n",
      "1500/1500 [==============================] - 7s 4ms/step - loss: 0.6629 - accuracy: 0.7542 - val_loss: 0.6844 - val_accuracy: 0.7480 - lr: 4.0960e-12\n"
     ]
    }
   ]
  },
  {
   "cell_type": "markdown",
   "source": [
    "## Analysis"
   ],
   "metadata": {
    "id": "UAn5Chpneeff",
    "pycharm": {
     "name": "#%% md\n"
    }
   }
  },
  {
   "cell_type": "code",
   "source": [
    "import matplotlib.pyplot as plt\n",
    "\n",
    "accuracy = history.history['accuracy']\n",
    "val_accuray = history.history['val_accuracy']\n",
    "loss = history.history['loss']\n",
    "val_loss = history.history['val_loss']\n",
    "epochs = range(1, len(accuracy) + 1)\n",
    "\n",
    "plt.title('Training and validation accuracy')\n",
    "plt.plot(epochs, accuracy, 'red', label='Training acc')\n",
    "plt.plot(epochs, val_accuray, 'blue', label='Validation acc')\n",
    "plt.legend()\n",
    "\n",
    "plt.figure()\n",
    "plt.title('Training and validation loss')\n",
    "plt.plot(epochs, loss, 'red', label='Training loss')\n",
    "plt.plot(epochs, val_loss, 'blue', label='Validation loss')\n",
    "\n",
    "plt.legend()\n",
    "\n",
    "plt.show()"
   ],
   "metadata": {
    "colab": {
     "base_uri": "https://localhost:8080/",
     "height": 545
    },
    "id": "NSV-gTTDU13l",
    "outputId": "cf3ba793-8786-49f7-9b43-04fe563e4bb2",
    "pycharm": {
     "name": "#%%\n"
    }
   },
   "execution_count": 22,
   "outputs": [
    {
     "output_type": "display_data",
     "data": {
      "text/plain": [
       "<Figure size 432x288 with 1 Axes>"
      ],
      "image/png": "[encoded data removed]"
     },
     "metadata": {
      "needs_background": "light"
     }
    },
    {
     "output_type": "display_data",
     "data": {
      "text/plain": [
       "<Figure size 432x288 with 1 Axes>"
      ],
      "image/png": "[encoded data removed]"
     },
     "metadata": {
      "needs_background": "light"
     }
    }
   ]
  }
 ]
}